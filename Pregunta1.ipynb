{
 "cells": [
  {
   "cell_type": "markdown",
   "metadata": {},
   "source": [
    "### Calculo de errores "
   ]
  },
  {
   "cell_type": "code",
   "execution_count": 2,
   "metadata": {},
   "outputs": [],
   "source": [
    "import math \n",
    "import numpy as np"
   ]
  },
  {
   "cell_type": "markdown",
   "metadata": {},
   "source": [
    "### Caso 1: "
   ]
  },
  {
   "cell_type": "markdown",
   "metadata": {},
   "source": [
    "### Metodo A"
   ]
  },
  {
   "cell_type": "code",
   "execution_count": 20,
   "metadata": {},
   "outputs": [
    {
     "name": "stdout",
     "output_type": "stream",
     "text": [
      "Valor de x1: -0.016107237408967023\n",
      "Valor de x2: -62.083892762591034\n"
     ]
    }
   ],
   "source": [
    "#Calcule el error relativo de los siguientes ejercicios usando aritmética de computador con redondeo a cuatro cifras significativas.\n",
    "\n",
    "#Caso 1: X^2+62.1X+1=0\n",
    "#MetodoA:\n",
    "a=1.0\n",
    "b=62.1\n",
    "c=1.0\n",
    "\n",
    "x_1= (-b+math.sqrt(b**2-(4*a*c)))/(2*a)\n",
    "x_2= (-b-math.sqrt(b**2-(4*a*c)))/(2*a)\n",
    "\n",
    "print(\"Valor de x1:\",x_1)\n",
    "print(\"Valor de x2:\",x_2)\n"
   ]
  },
  {
   "cell_type": "code",
   "execution_count": 21,
   "metadata": {},
   "outputs": [
    {
     "name": "stdout",
     "output_type": "stream",
     "text": [
      "El error relativo es:  0.0001715378000584071\n",
      "Orden de magnitud del error relativo: -4\n"
     ]
    }
   ],
   "source": [
    "error_relativo= abs((-0.016107237 - (-0.01611) )/-0.016107237)\n",
    "print(\"El error relativo es: \",error_relativo)\n",
    "\n",
    "orden_magnitud = math.floor(math.log10(error_relativo))\n",
    "print(\"Orden de magnitud del error relativo:\", orden_magnitud)"
   ]
  },
  {
   "cell_type": "code",
   "execution_count": 22,
   "metadata": {},
   "outputs": [
    {
     "name": "stdout",
     "output_type": "stream",
     "text": [
      "El error relativo es:  1.7234743961667674e-06\n",
      "Orden de magnitud del error relativo: -6\n"
     ]
    }
   ],
   "source": [
    "error_relativo= abs((-62.083893 - (-62.084) )/-62.083893)\n",
    "print(\"El error relativo es: \",error_relativo)\n",
    "\n",
    "orden_magnitud = math.floor(math.log10(error_relativo))\n",
    "print(\"Orden de magnitud del error relativo:\", orden_magnitud)"
   ]
  },
  {
   "cell_type": "markdown",
   "metadata": {},
   "source": [
    "### Metodo B:\n"
   ]
  },
  {
   "cell_type": "code",
   "execution_count": 23,
   "metadata": {},
   "outputs": [
    {
     "name": "stdout",
     "output_type": "stream",
     "text": [
      "Valor de x1: -0.01610723740896858\n",
      "Valor de x2: -62.08389276259703\n"
     ]
    }
   ],
   "source": [
    "x_1= (-2*c)/(b+math.sqrt(b**2-(4*a*c)))\n",
    "x_2= (-2*c)/(b-math.sqrt(b**2-(4*a*c)))\n",
    "\n",
    "print(\"Valor de x1:\",x_1)\n",
    "print(\"Valor de x2:\",x_2)"
   ]
  },
  {
   "cell_type": "code",
   "execution_count": 24,
   "metadata": {},
   "outputs": [
    {
     "name": "stdout",
     "output_type": "stream",
     "text": [
      "El error relativo es:  0.0001715378000584071\n",
      "Orden de magnitud del error relativo: -4\n"
     ]
    }
   ],
   "source": [
    "error_relativo= abs((-0.016107237 - (-0.01611) )/-0.016107237)\n",
    "print(\"El error relativo es: \",error_relativo)\n",
    "\n",
    "orden_magnitud = math.floor(math.log10(error_relativo))\n",
    "print(\"Orden de magnitud del error relativo:\", orden_magnitud)"
   ]
  },
  {
   "cell_type": "code",
   "execution_count": 25,
   "metadata": {},
   "outputs": [
    {
     "name": "stdout",
     "output_type": "stream",
     "text": [
      "El error relativo es:  1.7234743961667674e-06\n",
      "Orden de magnitud del error relativo: -6\n"
     ]
    }
   ],
   "source": [
    "error_relativo= abs((-62.083893 - (-62.084) )/-62.083893)\n",
    "print(\"El error relativo es: \",error_relativo)\n",
    "\n",
    "orden_magnitud = math.floor(math.log10(error_relativo))\n",
    "print(\"Orden de magnitud del error relativo:\", orden_magnitud)"
   ]
  },
  {
   "cell_type": "markdown",
   "metadata": {},
   "source": [
    "### Caso 2:\n"
   ]
  },
  {
   "cell_type": "code",
   "execution_count": 26,
   "metadata": {},
   "outputs": [
    {
     "name": "stdout",
     "output_type": "stream",
     "text": [
      "92.2445796273123\n",
      "0.005420372687694908\n"
     ]
    }
   ],
   "source": [
    "a=1/3\n",
    "b=-123/4\n",
    "c=1/6\n",
    "\n",
    "x_1= (-b+math.sqrt(b**2-(4*a*c)))/(2*a)\n",
    "x_2= (-b-math.sqrt(b**2-(4*a*c)))/(2*a)\n",
    "\n",
    "print(x_1)\n",
    "print(x_2)"
   ]
  }
 ],
 "metadata": {
  "kernelspec": {
   "display_name": "Python 3",
   "language": "python",
   "name": "python3"
  },
  "language_info": {
   "codemirror_mode": {
    "name": "ipython",
    "version": 3
   },
   "file_extension": ".py",
   "mimetype": "text/x-python",
   "name": "python",
   "nbconvert_exporter": "python",
   "pygments_lexer": "ipython3",
   "version": "3.13.0"
  }
 },
 "nbformat": 4,
 "nbformat_minor": 2
}
